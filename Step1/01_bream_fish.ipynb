{
 "cells": [
  {
   "cell_type": "markdown",
   "id": "605d6e19",
   "metadata": {},
   "source": [
    "# 시나리오\n",
    "\n",
    "- 마켓에서 생선을 판매한다.\n",
    "- 물류센터에서 신선한 생선을 직배송\n",
    "- 물류센터 직원이 생선을 분류해야 된다.\n",
    "- 이를 위해 분류기를 구현하고자 한다.\n",
    "\n",
    "\n",
    "### 생선을 어떤 기준으로 분류할 수 있을까?\n",
    "- 생선 분류를 위해 특징을 알아야 한다.\n",
    "- 도미는 길이가 30cm이상이라고 한다."
   ]
  },
  {
   "cell_type": "code",
   "execution_count": 1,
   "id": "ef651063",
   "metadata": {},
   "outputs": [
    {
     "name": "stdout",
     "output_type": "stream",
     "text": [
      "생선 길이:30\n",
      "도미\n"
     ]
    }
   ],
   "source": [
    "# 생선의 길이가 30cm이상이면 도미로 분류하는 프로그램\n",
    "fish_length = int(input('생선 길이:'))\n",
    "if fish_length >= 30:\n",
    "    print('도미')"
   ]
  },
  {
   "cell_type": "markdown",
   "id": "dfc58977",
   "metadata": {},
   "source": [
    "### 위 프로그램의 문제점?\n",
    "- 생선 길이가 30cm이상이라고 무조건 도미인가?\n",
    "\n",
    "### 이러한 문제를 해결하기 위해 생각해보기\n",
    "- 일반적인 프로그램은 정해준 기준대로 동작\n",
    "- 머신러닝은 학습을 통해 기준을 만들어 동작\n",
    "- 여러 개의 도미 생선의 정보를 학습시켜 도미를 구분할 기준을 선정하도록 함\n",
    "- 학습을 위한 데이터를 수집\n",
    "    - 직접 도미들의 길이와 무게를 측정\n",
    "    - 도미와 구분을 위해 빙어를 추가로 측정\n",
    "    - 측정한 데이터를 준비하여 진행\n",
    "    \n",
    "#### 학습을 위한 데이터가 필요하며 이를 위해 데이터 수집을 해야 함"
   ]
  },
  {
   "cell_type": "markdown",
   "id": "3abc53ef",
   "metadata": {},
   "source": [
    "#### 도미 데이터 준비\n",
    "- 수집한 데이터는 도미의 길이와 무게\n",
    "- 각각을 특성(feature)이라고 함"
   ]
  },
  {
   "cell_type": "code",
   "execution_count": 40,
   "id": "2005346c",
   "metadata": {},
   "outputs": [],
   "source": [
    "# 수집된 데이터\n",
    "bream_length = [25.4, 26.3, 26.5, 29.0, 29.0, 29.7, 29.7, 30.0, 30.0, 30.7, 31.0, 31.0, 31.5, 32.0, 32.0, 32.0, 33.0, 33.0, 33.5, 33.5, 34.0, 34.0, 34.5, 35.0, 35.0, 35.0, 35.0, 36.0, 36.0, 37.0, 38.5, 38.5, 39.5, 41.0, 41.0]\n",
    "bream_weight = [242.0, 290.0, 340.0, 363.0, 430.0, 450.0, 500.0, 390.0, 450.0, 500.0, 475.0, 500.0, 500.0, 340.0, 600.0, 600.0, 700.0, 700.0, 610.0, 650.0, 575.0, 685.0, 620.0, 680.0, 700.0, 725.0, 720.0, 714.0, 850.0, 1000.0, 920.0, 955.0, 925.0, 975.0, 950.0]"
   ]
  },
  {
   "cell_type": "markdown",
   "id": "59efc519",
   "metadata": {},
   "source": [
    "#### 시각화하기\n",
    "- 데이터를 파악하기 위해 그래프를 활용할 수 있음\n",
    "- matplotlib 라이브러리 활용\n",
    "- 산점도(scatter)그래프를 그려본다."
   ]
  },
  {
   "cell_type": "code",
   "execution_count": 41,
   "id": "033a5149",
   "metadata": {},
   "outputs": [
    {
     "data": {
      "image/png": "[encoded data removed]",
      "text/plain": [
       "<Figure size 432x288 with 1 Axes>"
      ]
     },
     "metadata": {
      "needs_background": "light"
     },
     "output_type": "display_data"
    }
   ],
   "source": [
    "# 일반적으로 plt라는 별칭을 사용\n",
    "import matplotlib.pyplot as plt\n",
    "\n",
    "plt.scatter(bream_length, bream_weight) # 산점도 그래프에 데이터 설정\n",
    "plt.xlabel('length') # X축의 이름\n",
    "plt.ylabel('weight') # Y축의 이름\n",
    "plt.show() # 그래프 그리기"
   ]
  },
  {
   "cell_type": "markdown",
   "id": "7bdce973",
   "metadata": {},
   "source": [
    "- 위 그래프를 이용하여 알 수 있는 것은?\n",
    "    - 생선의 길이가 길면 대체로 무게가 많이 나감\n",
    "    - 위와 같은 형태를 선형(linear)적이다라고 말함"
   ]
  },
  {
   "cell_type": "markdown",
   "id": "5ef65e18",
   "metadata": {},
   "source": [
    "#### 빙어 데이터 준비"
   ]
  },
  {
   "cell_type": "code",
   "execution_count": 42,
   "id": "d20a0dc4",
   "metadata": {},
   "outputs": [],
   "source": [
    "smelt_length = [9.8, 10.5, 10.6, 11.0, 11.2, 11.3, 11.8, 11.8, 12.0, 12.2, 12.4, 13.0, 14.3, 15.0]\n",
    "smelt_weight = [6.7, 7.5, 7.0, 9.7, 9.8, 8.7, 10.0, 9.9, 9.8, 12.2, 13.4, 12.2, 19.7, 19.9]"
   ]
  },
  {
   "cell_type": "markdown",
   "id": "e6284bdb",
   "metadata": {},
   "source": [
    "#### 빙어 데이터 시각화"
   ]
  },
  {
   "cell_type": "code",
   "execution_count": 43,
   "id": "afdc0d83",
   "metadata": {},
   "outputs": [
    {
     "data": {
      "image/png": "[encoded data removed]",
      "text/plain": [
       "<Figure size 432x288 with 1 Axes>"
      ]
     },
     "metadata": {
      "needs_background": "light"
     },
     "output_type": "display_data"
    }
   ],
   "source": [
    "# 일반적으로 plt라는 별칭을 사용\n",
    "import matplotlib.pyplot as plt\n",
    "\n",
    "plt.scatter(smelt_length, smelt_weight) # 산점도 그래프에 빙어 데이터 설정\n",
    "plt.xlabel('length') # X축의 이름\n",
    "plt.ylabel('weight') # Y축의 이름\n",
    "plt.show() # 그래프 그리기"
   ]
  },
  {
   "cell_type": "markdown",
   "id": "6e533ba5",
   "metadata": {},
   "source": [
    "- 위 그래프로 알 수 있는 것은?\n",
    "    - 빙어도 길이에 따라 무게가 달라진다.\n",
    "    - 도미에 비하면 그 차이가 미미하다."
   ]
  },
  {
   "cell_type": "markdown",
   "id": "abac049c",
   "metadata": {},
   "source": [
    "#### 도미와 빙어 모두의 산점도 그리기"
   ]
  },
  {
   "cell_type": "code",
   "execution_count": 44,
   "id": "6e8abcbd",
   "metadata": {},
   "outputs": [
    {
     "data": {
      "image/png": "[encoded data removed]",
      "text/plain": [
       "<Figure size 432x288 with 1 Axes>"
      ]
     },
     "metadata": {
      "needs_background": "light"
     },
     "output_type": "display_data"
    }
   ],
   "source": [
    "# 일반적으로 plt라는 별칭을 사용\n",
    "import matplotlib.pyplot as plt\n",
    "\n",
    "plt.scatter(bream_length, bream_weight) # 산점도 그래프에 도미 데이터 설정\n",
    "plt.scatter(smelt_length, smelt_weight) # 산점도 그래프에 빙어 데이터 설정\n",
    "plt.xlabel('length') # X축의 이름\n",
    "plt.ylabel('weight') # Y축의 이름\n",
    "plt.show()# 그래프 그리기"
   ]
  },
  {
   "cell_type": "markdown",
   "id": "be36cdb1",
   "metadata": {},
   "source": [
    "- 위 그래프로 알 수 있는 것은?\n",
    "- 빙어는 길이가 늘어나도 무게가 많이 늘어나지 않음\n",
    "    (무게가 길이에 영향을 덜 받는 특성)"
   ]
  },
  {
   "cell_type": "markdown",
   "id": "beeb31c9",
   "metadata": {},
   "source": [
    "### 첫 번째 머신러닝 맛보기\n",
    "- scikit-learn(사이킷런) 패키지 활용\n",
    "- 사이킷런 패키지의 알고리즘들은 특성들을 2차원 형태로 만들어야 함\n",
    "- kNN(k-Nearest Neighbors) : k-최근접 이웃 알고리즘으로 분류"
   ]
  },
  {
   "cell_type": "code",
   "execution_count": 45,
   "id": "b49719b8",
   "metadata": {},
   "outputs": [
    {
     "name": "stdout",
     "output_type": "stream",
     "text": [
      "[[25.4, 242.0], [26.3, 290.0], [26.5, 340.0], [29.0, 363.0], [29.0, 430.0], [29.7, 450.0], [29.7, 500.0], [30.0, 390.0], [30.0, 450.0], [30.7, 500.0], [31.0, 475.0], [31.0, 500.0], [31.5, 500.0], [32.0, 340.0], [32.0, 600.0], [32.0, 600.0], [33.0, 700.0], [33.0, 700.0], [33.5, 610.0], [33.5, 650.0], [34.0, 575.0], [34.0, 685.0], [34.5, 620.0], [35.0, 680.0], [35.0, 700.0], [35.0, 725.0], [35.0, 720.0], [36.0, 714.0], [36.0, 850.0], [37.0, 1000.0], [38.5, 920.0], [38.5, 955.0], [39.5, 925.0], [41.0, 975.0], [41.0, 950.0], [9.8, 242.0], [10.5, 290.0], [10.6, 340.0], [11.0, 363.0], [11.2, 430.0], [11.3, 450.0], [11.8, 500.0], [11.8, 390.0], [12.0, 450.0], [12.2, 500.0], [12.4, 475.0], [13.0, 500.0], [14.3, 500.0], [15.0, 340.0]]\n"
     ]
    }
   ],
   "source": [
    "# 도미와 빙어 데이터 합치기\n",
    "length = bream_length + smelt_length\n",
    "weight = bream_weight + bream_weight\n",
    "fish_data = [[l, w] for l, w in zip(length, weight)] # zip = 두 데이터 합쳐주는 아이 \n",
    "# 위 코드의 []로 묶은 아이를 '컴프리헨션' 이라고 부름\n",
    "\n",
    "print(fish_data)"
   ]
  },
  {
   "cell_type": "code",
   "execution_count": 46,
   "id": "12bee163",
   "metadata": {
    "scrolled": true
   },
   "outputs": [
    {
     "name": "stdout",
     "output_type": "stream",
     "text": [
      "[1, 1, 1, 1, 1, 1, 1, 1, 1, 1, 1, 1, 1, 1, 1, 1, 1, 1, 1, 1, 1, 1, 1, 1, 1, 1, 1, 1, 1, 1, 1, 1, 1, 1, 1, 0, 0, 0, 0, 0, 0, 0, 0, 0, 0, 0, 0, 0, 0]\n"
     ]
    }
   ],
   "source": [
    "# 각 길이와 무게에 따라 도미와 빙어를 분류한 정답을 생성\n",
    "fish_target = [1] * 35 + [0] * 14\n",
    "# 도미는 1, 빙어는 0 으로 판단하겠다\n",
    "# 아래 결과로 나오는 것과같이 결과값을 정답이라고 하겠다.\n",
    "\n",
    "print(fish_target)"
   ]
  },
  {
   "cell_type": "code",
   "execution_count": 47,
   "id": "d9c605b8",
   "metadata": {},
   "outputs": [
    {
     "data": {
      "text/plain": [
       "KNeighborsClassifier()"
      ]
     },
     "execution_count": 47,
     "metadata": {},
     "output_type": "execute_result"
    }
   ],
   "source": [
    "# 학습(훈련)하기\n",
    "# kNN 모델 import\n",
    "from sklearn.neighbors import KNeighborsClassifier\n",
    "# 여기까지 함~! 5/29\n",
    "\n",
    "# kNN 모델 import\n",
    "# 모델 인스턴스 생성\n",
    "kn = KNeighborsClassifier()\n",
    "# 학습\n",
    "kn.fit(fish_data, fish_target)"
   ]
  },
  {
   "cell_type": "code",
   "execution_count": 48,
   "id": "f948ba32",
   "metadata": {},
   "outputs": [
    {
     "data": {
      "text/plain": [
       "1.0"
      ]
     },
     "execution_count": 48,
     "metadata": {},
     "output_type": "execute_result"
    }
   ],
   "source": [
    "# 모델 평가(0 ~ 1 사이의 값을 반환함) 두가지를 분류한다고 해서 '이진분류' 라고 함\n",
    "# 정확도(accuracy)\n",
    "kn.score(fish_data, fish_target)\n",
    "\n",
    "# 1.0 이 나온 이유?\n",
    "# 학습한 데이터만 가지고 시험본거나 마찬가지 다른데이터가 들어가지 않음 test데이터를 만들지 않음\n",
    "# 따라서 여기까지는 그냥 머신러닝이 어떤흐름인지 맛보는 단계 "
   ]
  },
  {
   "cell_type": "markdown",
   "id": "a6e2ce2d",
   "metadata": {},
   "source": [
    "### k-최근접 이웃 알고리즘 이해\n",
    "- 다음 그래프에 표시된 마커가 어떤 생선인가?"
   ]
  },
  {
   "cell_type": "code",
   "execution_count": 49,
   "id": "a1cb8aa5",
   "metadata": {
    "scrolled": true
   },
   "outputs": [
    {
     "data": {
      "image/png": "[encoded data removed]",
      "text/plain": [
       "<Figure size 432x288 with 1 Axes>"
      ]
     },
     "metadata": {
      "needs_background": "light"
     },
     "output_type": "display_data"
    }
   ],
   "source": [
    "plt.scatter(bream_length, bream_weight)\n",
    "plt.scatter(smelt_length, smelt_weight)\n",
    "plt.scatter(35, 530)# 길이 35, 무게 530 마커 지정\n",
    "plt.xlabel('length')\n",
    "plt.ylabel('weight')\n",
    "plt.show()"
   ]
  },
  {
   "cell_type": "code",
   "execution_count": 62,
   "id": "666d83ed",
   "metadata": {},
   "outputs": [
    {
     "data": {
      "text/plain": [
       "array([0])"
      ]
     },
     "execution_count": 62,
     "metadata": {},
     "output_type": "execute_result"
    }
   ],
   "source": [
    "# 실체 분류 예측해보기\n",
    "# 예측\n",
    "kn.predict([[16, 150]])"
   ]
  },
  {
   "cell_type": "code",
   "execution_count": 51,
   "id": "6033a0f7",
   "metadata": {
    "scrolled": false
   },
   "outputs": [
    {
     "data": {
      "image/png": "[encoded data removed]",
      "text/plain": [
       "<Figure size 432x288 with 1 Axes>"
      ]
     },
     "metadata": {
      "needs_background": "light"
     },
     "output_type": "display_data"
    }
   ],
   "source": [
    "plt.scatter(bream_length, bream_weight)\n",
    "plt.scatter(smelt_length, smelt_weight)\n",
    "plt.scatter(16, 150)# 길이 16, 무게 150 마커 지정\n",
    "plt.xlabel('length')\n",
    "plt.ylabel('weight')\n",
    "plt.show()"
   ]
  },
  {
   "cell_type": "code",
   "execution_count": 52,
   "id": "419901c4",
   "metadata": {},
   "outputs": [
    {
     "data": {
      "text/plain": [
       "array([0])"
      ]
     },
     "execution_count": 52,
     "metadata": {},
     "output_type": "execute_result"
    }
   ],
   "source": [
    "# 실체 분류 예측해보기\n",
    "# 예측\n",
    "kn.predict([[20, 200]])"
   ]
  },
  {
   "cell_type": "code",
   "execution_count": 53,
   "id": "3b030aaa",
   "metadata": {},
   "outputs": [
    {
     "data": {
      "image/png": "[encoded data removed]",
      "text/plain": [
       "<Figure size 432x288 with 1 Axes>"
      ]
     },
     "metadata": {
      "needs_background": "light"
     },
     "output_type": "display_data"
    }
   ],
   "source": [
    "plt.scatter(bream_length, bream_weight)\n",
    "plt.scatter(smelt_length, smelt_weight)\n",
    "plt.scatter(20, 200)# 길이 20, 무게 200 마커 지정\n",
    "plt.xlabel('length')\n",
    "plt.ylabel('weight')\n",
    "plt.show()"
   ]
  },
  {
   "cell_type": "markdown",
   "id": "598f30d9",
   "metadata": {},
   "source": [
    "- kNN은 데이터를 모두 가지고 있다.\n",
    "- 새로운 데이터가 직선거리로 어떤 데이터와 몇 개가 가까운지 파악(Default:5)"
   ]
  },
  {
   "cell_type": "code",
   "execution_count": 54,
   "id": "16422082",
   "metadata": {},
   "outputs": [
    {
     "data": {
      "text/plain": [
       "array([[  25.4,  242. ],\n",
       "       [  26.3,  290. ],\n",
       "       [  26.5,  340. ],\n",
       "       [  29. ,  363. ],\n",
       "       [  29. ,  430. ],\n",
       "       [  29.7,  450. ],\n",
       "       [  29.7,  500. ],\n",
       "       [  30. ,  390. ],\n",
       "       [  30. ,  450. ],\n",
       "       [  30.7,  500. ],\n",
       "       [  31. ,  475. ],\n",
       "       [  31. ,  500. ],\n",
       "       [  31.5,  500. ],\n",
       "       [  32. ,  340. ],\n",
       "       [  32. ,  600. ],\n",
       "       [  32. ,  600. ],\n",
       "       [  33. ,  700. ],\n",
       "       [  33. ,  700. ],\n",
       "       [  33.5,  610. ],\n",
       "       [  33.5,  650. ],\n",
       "       [  34. ,  575. ],\n",
       "       [  34. ,  685. ],\n",
       "       [  34.5,  620. ],\n",
       "       [  35. ,  680. ],\n",
       "       [  35. ,  700. ],\n",
       "       [  35. ,  725. ],\n",
       "       [  35. ,  720. ],\n",
       "       [  36. ,  714. ],\n",
       "       [  36. ,  850. ],\n",
       "       [  37. , 1000. ],\n",
       "       [  38.5,  920. ],\n",
       "       [  38.5,  955. ],\n",
       "       [  39.5,  925. ],\n",
       "       [  41. ,  975. ],\n",
       "       [  41. ,  950. ],\n",
       "       [   9.8,  242. ],\n",
       "       [  10.5,  290. ],\n",
       "       [  10.6,  340. ],\n",
       "       [  11. ,  363. ],\n",
       "       [  11.2,  430. ],\n",
       "       [  11.3,  450. ],\n",
       "       [  11.8,  500. ],\n",
       "       [  11.8,  390. ],\n",
       "       [  12. ,  450. ],\n",
       "       [  12.2,  500. ],\n",
       "       [  12.4,  475. ],\n",
       "       [  13. ,  500. ],\n",
       "       [  14.3,  500. ],\n",
       "       [  15. ,  340. ]])"
      ]
     },
     "execution_count": 54,
     "metadata": {},
     "output_type": "execute_result"
    }
   ],
   "source": [
    "kn._fit_X # 모델이 저장하고 있는 데이터 / _가 붙은 속성들이 있는데 객체 안에서 도는 아이들을 위해서 붙여둔 것(like 문법)"
   ]
  },
  {
   "cell_type": "code",
   "execution_count": 55,
   "id": "33779b80",
   "metadata": {},
   "outputs": [
    {
     "data": {
      "text/plain": [
       "array([1, 1, 1, 1, 1, 1, 1, 1, 1, 1, 1, 1, 1, 1, 1, 1, 1, 1, 1, 1, 1, 1,\n",
       "       1, 1, 1, 1, 1, 1, 1, 1, 1, 1, 1, 1, 1, 0, 0, 0, 0, 0, 0, 0, 0, 0,\n",
       "       0, 0, 0, 0, 0])"
      ]
     },
     "execution_count": 55,
     "metadata": {},
     "output_type": "execute_result"
    }
   ],
   "source": [
    "kn._y # 모델이 가지고 있는 타겟 속성"
   ]
  },
  {
   "cell_type": "code",
   "execution_count": 56,
   "id": "b93f7b33",
   "metadata": {},
   "outputs": [
    {
     "data": {
      "text/plain": [
       "0.7142857142857143"
      ]
     },
     "execution_count": 56,
     "metadata": {},
     "output_type": "execute_result"
    }
   ],
   "source": [
    "# 49개의 이웃으로 분류하는 모델 인스턴스 생성\n",
    "# 학습\n",
    "from sklearn.neighbors import KNeighborsClassifier\n",
    "\n",
    "kn49 = KNeighborsClassifier(n_neighbors=49)\n",
    "\n",
    "kn49.fit(fish_data, fish_target)\n",
    "# 정확도 확인\n",
    "kn49.score(fish_data, fish_target)\n",
    "\n",
    "# under sampling , over sampling"
   ]
  },
  {
   "cell_type": "markdown",
   "id": "5a210ea2",
   "metadata": {},
   "source": [
    "- 5개의 이웃으로 분류하는 기존 모델 분류 결과"
   ]
  },
  {
   "cell_type": "code",
   "execution_count": 64,
   "id": "ad28db28",
   "metadata": {},
   "outputs": [
    {
     "name": "stdout",
     "output_type": "stream",
     "text": [
      "[1]\n",
      "[0]\n",
      "[0]\n"
     ]
    }
   ],
   "source": [
    "print(kn.predict([[35, 530]]))\n",
    "print(kn.predict([[16, 150]]))\n",
    "print(kn.predict([[20, 200]]))"
   ]
  },
  {
   "cell_type": "markdown",
   "id": "769b1359",
   "metadata": {},
   "source": [
    "- 49개의 이웃으로 분류하는 모델은 모든 분류 결과가 도미가 됨"
   ]
  },
  {
   "cell_type": "code",
   "execution_count": 58,
   "id": "54b810d1",
   "metadata": {
    "scrolled": true
   },
   "outputs": [
    {
     "name": "stdout",
     "output_type": "stream",
     "text": [
      "[1]\n",
      "[1]\n",
      "[1]\n"
     ]
    }
   ],
   "source": [
    "print(kn49.predict([[35, 530]]))\n",
    "print(kn49.predict([[16, 150]]))\n",
    "print(kn49.predict([[20, 200]]))"
   ]
  },
  {
   "cell_type": "code",
   "execution_count": 59,
   "id": "7589659d",
   "metadata": {},
   "outputs": [
    {
     "name": "stdout",
     "output_type": "stream",
     "text": [
      "0.7142857142857143\n"
     ]
    }
   ],
   "source": [
    "print(35/49) # 도미를 잘 맞출 확률(정확도)"
   ]
  },
  {
   "cell_type": "markdown",
   "id": "608e0027",
   "metadata": {},
   "source": [
    "## 여기까지 개념 정리하기"
   ]
  }
 ],
 "metadata": {
  "kernelspec": {
   "display_name": "Python 3 (ipykernel)",
   "language": "python",
   "name": "python3"
  },
  "language_info": {
   "codemirror_mode": {
    "name": "ipython",
    "version": 3
   },
   "file_extension": ".py",
   "mimetype": "text/x-python",
   "name": "python",
   "nbconvert_exporter": "python",
   "pygments_lexer": "ipython3",
   "version": "3.9.12"
  }
 },
 "nbformat": 4,
 "nbformat_minor": 5
}
